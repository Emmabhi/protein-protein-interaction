{
  "nbformat": 4,
  "nbformat_minor": 0,
  "metadata": {
    "colab": {
      "provenance": [],
      "collapsed_sections": [
        "huI6Kal3FqlG",
        "jSp_vWtkN04-"
      ]
    },
    "kernelspec": {
      "name": "python3",
      "display_name": "Python 3"
    },
    "language_info": {
      "name": "python"
    },
    "accelerator": "TPU"
  },
  "cells": [
    {
      "cell_type": "markdown",
      "source": [
        "### Install Libraries..."
      ],
      "metadata": {
        "id": "huI6Kal3FqlG"
      }
    },
    {
      "cell_type": "code",
      "source": [
        "!pip install stellargraph"
      ],
      "metadata": {
        "colab": {
          "base_uri": "https://localhost:8080/"
        },
        "id": "UbeXeZpcNv_O",
        "outputId": "cddb8766-ee3d-4dc6-91b6-581ba3581c82"
      },
      "execution_count": null,
      "outputs": [
        {
          "output_type": "stream",
          "name": "stdout",
          "text": [
            "Looking in indexes: https://pypi.org/simple, https://us-python.pkg.dev/colab-wheels/public/simple/\n",
            "Requirement already satisfied: stellargraph in /usr/local/lib/python3.7/dist-packages (1.2.1)\n",
            "Requirement already satisfied: matplotlib>=2.2 in /usr/local/lib/python3.7/dist-packages (from stellargraph) (3.2.2)\n",
            "Requirement already satisfied: pandas>=0.24 in /usr/local/lib/python3.7/dist-packages (from stellargraph) (1.3.5)\n",
            "Requirement already satisfied: scikit-learn>=0.20 in /usr/local/lib/python3.7/dist-packages (from stellargraph) (1.0.2)\n",
            "Requirement already satisfied: numpy>=1.14 in /usr/local/lib/python3.7/dist-packages (from stellargraph) (1.21.6)\n",
            "Requirement already satisfied: tensorflow>=2.1.0 in /usr/local/lib/python3.7/dist-packages (from stellargraph) (2.9.2)\n",
            "Requirement already satisfied: scipy>=1.1.0 in /usr/local/lib/python3.7/dist-packages (from stellargraph) (1.7.3)\n",
            "Requirement already satisfied: gensim>=3.4.0 in /usr/local/lib/python3.7/dist-packages (from stellargraph) (3.6.0)\n",
            "Requirement already satisfied: networkx>=2.2 in /usr/local/lib/python3.7/dist-packages (from stellargraph) (2.6.3)\n",
            "Requirement already satisfied: smart-open>=1.2.1 in /usr/local/lib/python3.7/dist-packages (from gensim>=3.4.0->stellargraph) (5.2.1)\n",
            "Requirement already satisfied: six>=1.5.0 in /usr/local/lib/python3.7/dist-packages (from gensim>=3.4.0->stellargraph) (1.15.0)\n",
            "Requirement already satisfied: python-dateutil>=2.1 in /usr/local/lib/python3.7/dist-packages (from matplotlib>=2.2->stellargraph) (2.8.2)\n",
            "Requirement already satisfied: pyparsing!=2.0.4,!=2.1.2,!=2.1.6,>=2.0.1 in /usr/local/lib/python3.7/dist-packages (from matplotlib>=2.2->stellargraph) (3.0.9)\n",
            "Requirement already satisfied: cycler>=0.10 in /usr/local/lib/python3.7/dist-packages (from matplotlib>=2.2->stellargraph) (0.11.0)\n",
            "Requirement already satisfied: kiwisolver>=1.0.1 in /usr/local/lib/python3.7/dist-packages (from matplotlib>=2.2->stellargraph) (1.4.4)\n",
            "Requirement already satisfied: typing-extensions in /usr/local/lib/python3.7/dist-packages (from kiwisolver>=1.0.1->matplotlib>=2.2->stellargraph) (4.1.1)\n",
            "Requirement already satisfied: pytz>=2017.3 in /usr/local/lib/python3.7/dist-packages (from pandas>=0.24->stellargraph) (2022.5)\n",
            "Requirement already satisfied: joblib>=0.11 in /usr/local/lib/python3.7/dist-packages (from scikit-learn>=0.20->stellargraph) (1.2.0)\n",
            "Requirement already satisfied: threadpoolctl>=2.0.0 in /usr/local/lib/python3.7/dist-packages (from scikit-learn>=0.20->stellargraph) (3.1.0)\n",
            "Requirement already satisfied: opt-einsum>=2.3.2 in /usr/local/lib/python3.7/dist-packages (from tensorflow>=2.1.0->stellargraph) (3.3.0)\n",
            "Requirement already satisfied: libclang>=13.0.0 in /usr/local/lib/python3.7/dist-packages (from tensorflow>=2.1.0->stellargraph) (14.0.6)\n",
            "Requirement already satisfied: absl-py>=1.0.0 in /usr/local/lib/python3.7/dist-packages (from tensorflow>=2.1.0->stellargraph) (1.3.0)\n",
            "Requirement already satisfied: packaging in /usr/local/lib/python3.7/dist-packages (from tensorflow>=2.1.0->stellargraph) (21.3)\n",
            "Requirement already satisfied: termcolor>=1.1.0 in /usr/local/lib/python3.7/dist-packages (from tensorflow>=2.1.0->stellargraph) (2.0.1)\n",
            "Requirement already satisfied: tensorboard<2.10,>=2.9 in /usr/local/lib/python3.7/dist-packages (from tensorflow>=2.1.0->stellargraph) (2.9.1)\n",
            "Requirement already satisfied: protobuf<3.20,>=3.9.2 in /usr/local/lib/python3.7/dist-packages (from tensorflow>=2.1.0->stellargraph) (3.17.3)\n",
            "Requirement already satisfied: tensorflow-io-gcs-filesystem>=0.23.1 in /usr/local/lib/python3.7/dist-packages (from tensorflow>=2.1.0->stellargraph) (0.27.0)\n",
            "Requirement already satisfied: flatbuffers<2,>=1.12 in /usr/local/lib/python3.7/dist-packages (from tensorflow>=2.1.0->stellargraph) (1.12)\n",
            "Requirement already satisfied: tensorflow-estimator<2.10.0,>=2.9.0rc0 in /usr/local/lib/python3.7/dist-packages (from tensorflow>=2.1.0->stellargraph) (2.9.0)\n",
            "Requirement already satisfied: astunparse>=1.6.0 in /usr/local/lib/python3.7/dist-packages (from tensorflow>=2.1.0->stellargraph) (1.6.3)\n",
            "Requirement already satisfied: grpcio<2.0,>=1.24.3 in /usr/local/lib/python3.7/dist-packages (from tensorflow>=2.1.0->stellargraph) (1.50.0)\n",
            "Requirement already satisfied: h5py>=2.9.0 in /usr/local/lib/python3.7/dist-packages (from tensorflow>=2.1.0->stellargraph) (3.1.0)\n",
            "Requirement already satisfied: keras<2.10.0,>=2.9.0rc0 in /usr/local/lib/python3.7/dist-packages (from tensorflow>=2.1.0->stellargraph) (2.9.0)\n",
            "Requirement already satisfied: setuptools in /usr/local/lib/python3.7/dist-packages (from tensorflow>=2.1.0->stellargraph) (57.4.0)\n",
            "Requirement already satisfied: keras-preprocessing>=1.1.1 in /usr/local/lib/python3.7/dist-packages (from tensorflow>=2.1.0->stellargraph) (1.1.2)\n",
            "Requirement already satisfied: wrapt>=1.11.0 in /usr/local/lib/python3.7/dist-packages (from tensorflow>=2.1.0->stellargraph) (1.14.1)\n",
            "Requirement already satisfied: google-pasta>=0.1.1 in /usr/local/lib/python3.7/dist-packages (from tensorflow>=2.1.0->stellargraph) (0.2.0)\n",
            "Requirement already satisfied: gast<=0.4.0,>=0.2.1 in /usr/local/lib/python3.7/dist-packages (from tensorflow>=2.1.0->stellargraph) (0.4.0)\n",
            "Requirement already satisfied: wheel<1.0,>=0.23.0 in /usr/local/lib/python3.7/dist-packages (from astunparse>=1.6.0->tensorflow>=2.1.0->stellargraph) (0.37.1)\n",
            "Requirement already satisfied: cached-property in /usr/local/lib/python3.7/dist-packages (from h5py>=2.9.0->tensorflow>=2.1.0->stellargraph) (1.5.2)\n",
            "Requirement already satisfied: requests<3,>=2.21.0 in /usr/local/lib/python3.7/dist-packages (from tensorboard<2.10,>=2.9->tensorflow>=2.1.0->stellargraph) (2.23.0)\n",
            "Requirement already satisfied: google-auth<3,>=1.6.3 in /usr/local/lib/python3.7/dist-packages (from tensorboard<2.10,>=2.9->tensorflow>=2.1.0->stellargraph) (1.35.0)\n",
            "Requirement already satisfied: tensorboard-plugin-wit>=1.6.0 in /usr/local/lib/python3.7/dist-packages (from tensorboard<2.10,>=2.9->tensorflow>=2.1.0->stellargraph) (1.8.1)\n",
            "Requirement already satisfied: google-auth-oauthlib<0.5,>=0.4.1 in /usr/local/lib/python3.7/dist-packages (from tensorboard<2.10,>=2.9->tensorflow>=2.1.0->stellargraph) (0.4.6)\n",
            "Requirement already satisfied: markdown>=2.6.8 in /usr/local/lib/python3.7/dist-packages (from tensorboard<2.10,>=2.9->tensorflow>=2.1.0->stellargraph) (3.4.1)\n",
            "Requirement already satisfied: tensorboard-data-server<0.7.0,>=0.6.0 in /usr/local/lib/python3.7/dist-packages (from tensorboard<2.10,>=2.9->tensorflow>=2.1.0->stellargraph) (0.6.1)\n",
            "Requirement already satisfied: werkzeug>=1.0.1 in /usr/local/lib/python3.7/dist-packages (from tensorboard<2.10,>=2.9->tensorflow>=2.1.0->stellargraph) (1.0.1)\n",
            "Requirement already satisfied: rsa<5,>=3.1.4 in /usr/local/lib/python3.7/dist-packages (from google-auth<3,>=1.6.3->tensorboard<2.10,>=2.9->tensorflow>=2.1.0->stellargraph) (4.9)\n",
            "Requirement already satisfied: pyasn1-modules>=0.2.1 in /usr/local/lib/python3.7/dist-packages (from google-auth<3,>=1.6.3->tensorboard<2.10,>=2.9->tensorflow>=2.1.0->stellargraph) (0.2.8)\n",
            "Requirement already satisfied: cachetools<5.0,>=2.0.0 in /usr/local/lib/python3.7/dist-packages (from google-auth<3,>=1.6.3->tensorboard<2.10,>=2.9->tensorflow>=2.1.0->stellargraph) (4.2.4)\n",
            "Requirement already satisfied: requests-oauthlib>=0.7.0 in /usr/local/lib/python3.7/dist-packages (from google-auth-oauthlib<0.5,>=0.4.1->tensorboard<2.10,>=2.9->tensorflow>=2.1.0->stellargraph) (1.3.1)\n",
            "Requirement already satisfied: importlib-metadata>=4.4 in /usr/local/lib/python3.7/dist-packages (from markdown>=2.6.8->tensorboard<2.10,>=2.9->tensorflow>=2.1.0->stellargraph) (4.13.0)\n",
            "Requirement already satisfied: zipp>=0.5 in /usr/local/lib/python3.7/dist-packages (from importlib-metadata>=4.4->markdown>=2.6.8->tensorboard<2.10,>=2.9->tensorflow>=2.1.0->stellargraph) (3.10.0)\n",
            "Requirement already satisfied: pyasn1<0.5.0,>=0.4.6 in /usr/local/lib/python3.7/dist-packages (from pyasn1-modules>=0.2.1->google-auth<3,>=1.6.3->tensorboard<2.10,>=2.9->tensorflow>=2.1.0->stellargraph) (0.4.8)\n",
            "Requirement already satisfied: idna<3,>=2.5 in /usr/local/lib/python3.7/dist-packages (from requests<3,>=2.21.0->tensorboard<2.10,>=2.9->tensorflow>=2.1.0->stellargraph) (2.10)\n",
            "Requirement already satisfied: urllib3!=1.25.0,!=1.25.1,<1.26,>=1.21.1 in /usr/local/lib/python3.7/dist-packages (from requests<3,>=2.21.0->tensorboard<2.10,>=2.9->tensorflow>=2.1.0->stellargraph) (1.24.3)\n",
            "Requirement already satisfied: certifi>=2017.4.17 in /usr/local/lib/python3.7/dist-packages (from requests<3,>=2.21.0->tensorboard<2.10,>=2.9->tensorflow>=2.1.0->stellargraph) (2022.9.24)\n",
            "Requirement already satisfied: chardet<4,>=3.0.2 in /usr/local/lib/python3.7/dist-packages (from requests<3,>=2.21.0->tensorboard<2.10,>=2.9->tensorflow>=2.1.0->stellargraph) (3.0.4)\n",
            "Requirement already satisfied: oauthlib>=3.0.0 in /usr/local/lib/python3.7/dist-packages (from requests-oauthlib>=0.7.0->google-auth-oauthlib<0.5,>=0.4.1->tensorboard<2.10,>=2.9->tensorflow>=2.1.0->stellargraph) (3.2.2)\n"
          ]
        }
      ]
    },
    {
      "cell_type": "markdown",
      "source": [
        "### Import Libraries..."
      ],
      "metadata": {
        "id": "jSp_vWtkN04-"
      }
    },
    {
      "cell_type": "code",
      "source": [
        "import networkx as nx\n",
        "import numpy as np\n",
        "import matplotlib.pyplot as plt\n",
        "from scipy.linalg import fractional_matrix_power\n",
        "\n",
        "import warnings\n",
        "import sys"
      ],
      "metadata": {
        "id": "JLhOu1Eu8scv"
      },
      "execution_count": null,
      "outputs": []
    },
    {
      "cell_type": "code",
      "source": [
        "warnings.filterwarnings(\"ignore\", category=UserWarning)"
      ],
      "metadata": {
        "id": "KDKeiypr80x4"
      },
      "execution_count": null,
      "outputs": []
    },
    {
      "cell_type": "markdown",
      "source": [
        "### Define Data..."
      ],
      "metadata": {
        "id": "oMFCSeivS2vD"
      }
    },
    {
      "cell_type": "code",
      "source": [
        "interaction_pairs = # data in list of key-value pair\n",
        "number_of_nodes = # len(unique_proteins)"
      ],
      "metadata": {
        "id": "uq7KUBjaS7rY"
      },
      "execution_count": null,
      "outputs": []
    },
    {
      "cell_type": "markdown",
      "source": [
        "### Creating Graph..."
      ],
      "metadata": {
        "id": "qAftH74TQ156"
      }
    },
    {
      "cell_type": "code",
      "source": [
        "graph = nx.Graph(name='graph')"
      ],
      "metadata": {
        "id": "Np5peNfg84yP"
      },
      "execution_count": null,
      "outputs": []
    },
    {
      "cell_type": "code",
      "source": [
        "for i in range(number_of_nodes):\n",
        "  graph.add_node(i,name=i)"
      ],
      "metadata": {
        "id": "zVTYbFLI9Ion"
      },
      "execution_count": null,
      "outputs": []
    },
    {
      "cell_type": "code",
      "source": [
        "graph.add_edges_from(interaction_pairs)"
      ],
      "metadata": {
        "id": "udf9wTdh9Y40"
      },
      "execution_count": null,
      "outputs": []
    },
    {
      "cell_type": "code",
      "source": [
        "nx.draw(graph,with_labels=True,font_weight='bold')\n",
        "plt.show()\n",
        "print(\"\\nGraph :\\t\", nx.info(graph))"
      ],
      "metadata": {
        "colab": {
          "base_uri": "https://localhost:8080/",
          "height": 354
        },
        "id": "TQako256-K8p",
        "outputId": "c7c15dae-e2a3-455a-8ad8-59e91a8ac044"
      },
      "execution_count": null,
      "outputs": [
        {
          "output_type": "display_data",
          "data": {
            "text/plain": [
              "<Figure size 432x288 with 1 Axes>"
            ],
            "image/png": "[encoded data removed]"
          },
          "metadata": {}
        },
        {
          "output_type": "stream",
          "name": "stdout",
          "text": [
            "\n",
            "Graph :\t Graph named 'graph' with 8 nodes and 11 edges\n"
          ]
        }
      ]
    },
    {
      "cell_type": "code",
      "source": [
        "adjacency_matrix = np.array(nx.attr_matrix(graph)[0])\n",
        "node_feature_matrix = np.array(nx.attr_matrix(graph)[1])\n",
        "node_feature_matrix = np.expand_dims(node_feature_matrix,axis=1)"
      ],
      "metadata": {
        "id": "ViOMg-yi-kr_"
      },
      "execution_count": null,
      "outputs": []
    },
    {
      "cell_type": "code",
      "source": [
        "graph_self_loops = graph.copy()\n",
        "self_loops = []\n",
        "for i in range(graph.number_of_nodes()):\n",
        "  self_loops.append((i,i))\n",
        "graph_self_loops.add_edges_from(self_loops)\n",
        "adjacency_matrix_with_loops = np.array(nx.attr_matrix(graph_self_loops)[0])"
      ],
      "metadata": {
        "id": "gSUHUxqE_iw0"
      },
      "execution_count": null,
      "outputs": []
    },
    {
      "cell_type": "code",
      "source": [
        "degree_matrix = graph_self_loops.degree()\n",
        "D = np.diag([deg for (n,deg) in list(degree_matrix)])\n",
        "D_inverse = np.linalg.inv(D)"
      ],
      "metadata": {
        "id": "wbFr06lqAzZd"
      },
      "execution_count": null,
      "outputs": []
    },
    {
      "cell_type": "code",
      "source": [
        "A_hat = np.array(nx.attr_matrix(graph_self_loops)[0])\n",
        "X = np.array(nx.attr_matrix(graph_self_loops)[1])\n",
        "X = np.expand_dims(X,axis=1)\n",
        "\n",
        "sum_neighbor_features = np.dot(A_hat,X)\n",
        "normalised_sum_neighbor_features = np.dot(D_inverse,sum_neighbor_features)"
      ],
      "metadata": {
        "id": "QaF6sw-KBmjj"
      },
      "execution_count": null,
      "outputs": []
    },
    {
      "cell_type": "code",
      "source": [
        "#kipf and welling\n",
        "D_half_norm = fractional_matrix_power(D, -0.5)\n",
        "DADX = D_half_norm.dot(A_hat).dot(D_half_norm).dot(X)"
      ],
      "metadata": {
        "id": "Qi0migQ188lb"
      },
      "execution_count": null,
      "outputs": []
    },
    {
      "cell_type": "markdown",
      "source": [
        "### Creating Model..."
      ],
      "metadata": {
        "id": "HAT6rm-xRA_-"
      }
    },
    {
      "cell_type": "code",
      "source": [
        "import keras as ks\n",
        "import tensorflow as tf\n",
        "from stellargraph.layer.gcn import GraphConvolution as gc\n",
        "from stellargraph.layer import GCN, LinkEmbedding"
      ],
      "metadata": {
        "id": "4hp1Ga4SDvJ3"
      },
      "execution_count": null,
      "outputs": []
    },
    {
      "cell_type": "code",
      "source": [
        "from stellargraph.layer.appnp import GraphPreProcessingLayer\n",
        "# input layer\n",
        "def pipeline(X):\n",
        "  X=gc(32,activation=\"relu\",kernel_initializer = ks.initializers.GlorotUniform,bias_initializer=ks.initializers.glorot_uniform())(X)\n",
        "  X=ks.layers.Dropout(0.5)(X)\n",
        "  X=gc(32,activation=\"relu\",kernel_initializer = ks.initializers.GlorotUniform,bias_initializer= ks.initializers.GlorotUniform())(X)\n",
        "  output = ks.layers.Dense(1, activation='sigmoid')(X)\n",
        "  print(X)"
      ],
      "metadata": {
        "id": "TxiiRlCBE1hc"
      },
      "execution_count": null,
      "outputs": []
    },
    {
      "cell_type": "code",
      "source": [
        "# pipeline(normalised_sum_neighbor_features)"
      ],
      "metadata": {
        "id": "DvWVPyF3qdDd"
      },
      "execution_count": null,
      "outputs": []
    },
    {
      "cell_type": "markdown",
      "source": [
        "### Other Model 1..."
      ],
      "metadata": {
        "id": "vUXMg7h2SMC9"
      }
    },
    {
      "cell_type": "code",
      "source": [
        "import stellargraph as sg\n",
        "from stellargraph.mapper import FullBatchLinkGenerator\n",
        "from stellargraph.layer import GCN, LinkEmbedding\n",
        "stellar = sg.StellarGraph(normalised_sum_neighbor_features)\n",
        "gen = FullBatchLinkGenerator(stellar,method=\"gcn\")"
      ],
      "metadata": {
        "colab": {
          "base_uri": "https://localhost:8080/"
        },
        "id": "p5mBdmoHIiNa",
        "outputId": "a3fe7466-2b1e-43c7-d027-a68854317818"
      },
      "execution_count": null,
      "outputs": [
        {
          "output_type": "stream",
          "name": "stdout",
          "text": [
            "Using GCN (local pooling) filters...\n"
          ]
        }
      ]
    },
    {
      "cell_type": "code",
      "source": [
        "gcn = GCN(\n",
        "    layer_sizes=[16, 16], activations=[\"relu\", \"relu\"], generator=gen, dropout=0.3\n",
        ")"
      ],
      "metadata": {
        "id": "e9iTEmJkIHNa"
      },
      "execution_count": null,
      "outputs": []
    },
    {
      "cell_type": "code",
      "source": [
        "x_inp, x_out = gcn.in_out_tensors()\n",
        "prediction = LinkEmbedding(activation=\"relu\", method=\"ip\")(x_out)\n",
        "prediction = ks.layers.Reshape((-1,))(prediction)"
      ],
      "metadata": {
        "id": "pII5N7AKJOIs"
      },
      "execution_count": null,
      "outputs": []
    },
    {
      "cell_type": "code",
      "source": [
        "prediction"
      ],
      "metadata": {
        "colab": {
          "base_uri": "https://localhost:8080/"
        },
        "id": "pSXCMerMJdIt",
        "outputId": "473d18c7-8e65-4c0d-a8fd-1ada6a898394"
      },
      "execution_count": null,
      "outputs": [
        {
          "output_type": "execute_result",
          "data": {
            "text/plain": [
              "<KerasTensor: shape=(1, None) dtype=float32 (created by layer 'reshape_1')>"
            ]
          },
          "metadata": {},
          "execution_count": 69
        }
      ]
    },
    {
      "cell_type": "code",
      "source": [
        "model = ks.Model(inputs=x_inp, outputs=prediction)\n",
        "\n",
        "model.compile(\n",
        "    optimizer=ks.optimizers.Adam(lr=0.01),\n",
        "    loss=ks.losses.binary_crossentropy,\n",
        "    metrics=[\"acc\"],\n",
        ")\n"
      ],
      "metadata": {
        "id": "aRqT46YjJmLs"
      },
      "execution_count": null,
      "outputs": []
    },
    {
      "cell_type": "markdown",
      "source": [
        "### Other Model 2..."
      ],
      "metadata": {
        "id": "vWo7nu90STEr"
      }
    },
    {
      "cell_type": "code",
      "source": [
        "def relu(x):\n",
        "    return np.maximum(0,x)\n",
        "np.random.seed(77777)\n",
        "neurons_hidden_lyr = 4\n",
        "neurons_output_lyr = 2\n",
        "W0 = np.random.randn(X.shape[1], neurons_hidden_lyr) * 0.01\n",
        "W1 = np.random.randn(neurons_hidden_lyr, neurons_output_lyr) * 0.01\n",
        "\n",
        "def gcn(A,H,W):\n",
        "    I = np.identity(A.shape[0])\n",
        "    A_hat = A + I\n",
        "    D = np.diag(np.sum(A_hat, axis=0))\n",
        "    D_half_norm = fractional_matrix_power(D, -0.5)\n",
        "    #kipf and welling\n",
        "    eq = D_half_norm.dot(A_hat).dot(D_half_norm).dot(H).dot(W)\n",
        "    return relu(eq)\n",
        "\n",
        "HL1 = gcn(adjacency_matrix,X,W0)\n",
        "HL2 = gcn(adjacency_matrix,HL1,W1)\n",
        "print(HL2)"
      ],
      "metadata": {
        "id": "U7ZJcIafi89_",
        "colab": {
          "base_uri": "https://localhost:8080/"
        },
        "outputId": "258ebedb-4d7b-4436-b546-9b5477f7b21d"
      },
      "execution_count": null,
      "outputs": [
        {
          "output_type": "stream",
          "name": "stdout",
          "text": [
            "[[0.00058924 0.        ]\n",
            " [0.00030571 0.        ]\n",
            " [0.00041672 0.        ]\n",
            " [0.00059623 0.        ]\n",
            " [0.00054097 0.        ]\n",
            " [0.00054097 0.        ]\n",
            " [0.00052756 0.        ]\n",
            " [0.00055376 0.        ]]\n"
          ]
        }
      ]
    },
    {
      "cell_type": "markdown",
      "source": [
        "### Common output layer\n"
      ],
      "metadata": {
        "id": "if8QlImzcP_8"
      }
    },
    {
      "cell_type": "code",
      "source": [
        "output = ks.layers.Dense(1, activation='sigmoid')(HL2)"
      ],
      "metadata": {
        "id": "33-5aMNMBPms"
      },
      "execution_count": null,
      "outputs": []
    },
    {
      "cell_type": "markdown",
      "source": [
        "### Using KNN..."
      ],
      "metadata": {
        "id": "p6LyIpCjQWmc"
      }
    },
    {
      "cell_type": "code",
      "source": [
        "output = output.numpy().tolist()\n",
        "\n",
        "output_l = []\n",
        "for o in output:\n",
        "  output_l.append(o[0])\n",
        "\n",
        "id = []\n",
        "for i in range(number_of_nodes):\n",
        "  id.append(i)\n",
        "\n",
        "dictio = dict(zip(id,output_l))"
      ],
      "metadata": {
        "id": "kd0kPQW7mGX-"
      },
      "execution_count": null,
      "outputs": []
    },
    {
      "cell_type": "code",
      "source": [
        "def find_close(inp) -> list():\n",
        "  list_index = []\n",
        "  id_copy = id.copy()\n",
        "  for i in id:\n",
        "    res = sys.maxsize\n",
        "    index = -1\n",
        "    if i not in list_index:\n",
        "      for d in id_copy:\n",
        "        if d != inp:\n",
        "          temp = abs(dictio[d] - dictio[inp])\n",
        "          if res > temp :\n",
        "            res, index = temp, d\n",
        "      list_index.append(index)\n",
        "      id_copy.remove(index)\n",
        "    else:\n",
        "      pass\n",
        "  return list_index"
      ],
      "metadata": {
        "id": "phDs4SpWo5AU"
      },
      "execution_count": null,
      "outputs": []
    },
    {
      "cell_type": "markdown",
      "source": [
        "### Result of KNN..."
      ],
      "metadata": {
        "id": "YIb9bzzNTxPb"
      }
    },
    {
      "cell_type": "code",
      "source": [
        "# print(\"Output of Graph : \")\n",
        "output"
      ],
      "metadata": {
        "id": "Pg80PROtPUB_",
        "colab": {
          "base_uri": "https://localhost:8080/"
        },
        "outputId": "d72482ba-c779-4d5f-9aa9-0e9cca7e5abf"
      },
      "execution_count": null,
      "outputs": [
        {
          "output_type": "execute_result",
          "data": {
            "text/plain": [
              "[[0.5001641511917114],\n",
              " [0.500085175037384],\n",
              " [0.5001161694526672],\n",
              " [0.5001661777496338],\n",
              " [0.500150740146637],\n",
              " [0.500150740146637],\n",
              " [0.5001469850540161],\n",
              " [0.5001543164253235]]"
            ]
          },
          "metadata": {},
          "execution_count": 83
        }
      ]
    },
    {
      "cell_type": "code",
      "source": [
        "inp_id = int(input(\"Enter Node : \"))\n",
        "if inp_id in id:\n",
        "  print(\"\\n|---------------------------------------------------------------|\")\n",
        "  result = find_close(inp_id)\n",
        "  count = 0\n",
        "  try:\n",
        "    for r in result:\n",
        "      print(\"| Rank : \", count,\" || \\t\", \"Node : \", r, \" || \\t\", dictio[r])\n",
        "      count += 1\n",
        "  except TypeError as e:\n",
        "    print(\"| Rank : \", count,\" || \\t\", \"Node : \", result, \" || \\t\", dictio[result])\n",
        "  print(\"|---------------------------------------------------------------|\")\n",
        "\n",
        "else:\n",
        "  print(\"\\n Node is not in Gragh.\")"
      ],
      "metadata": {
        "id": "dIjsGatzhoLT",
        "colab": {
          "base_uri": "https://localhost:8080/"
        },
        "outputId": "4b23d147-388f-45e2-afa6-55c069612e08"
      },
      "execution_count": null,
      "outputs": [
        {
          "output_type": "stream",
          "name": "stdout",
          "text": [
            "Enter Node : 4\n",
            "\n",
            "|---------------------------------------------------------------|\n",
            "| Rank :  0  || \t Node :  5  || \t 0.500150740146637\n",
            "| Rank :  1  || \t Node :  7  || \t 0.5001543164253235\n",
            "| Rank :  2  || \t Node :  6  || \t 0.5001469850540161\n",
            "| Rank :  3  || \t Node :  0  || \t 0.5001641511917114\n",
            "| Rank :  4  || \t Node :  3  || \t 0.5001661777496338\n",
            "|---------------------------------------------------------------|\n"
          ]
        }
      ]
    }
  ]
}